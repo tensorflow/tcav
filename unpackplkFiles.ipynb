{
 "cells": [
  {
   "cell_type": "code",
   "execution_count": 1,
   "metadata": {},
   "outputs": [],
   "source": [
    "import pickle\n",
    "\n",
    "user = 'beenkim'\n",
    "project_name = 'tcav_class_test'\n",
    "working_dir = \"/tmp/\" + user + '/' + project_name\n",
    "activation_dir =  working_dir+ '/activations/'\n",
    "cav_dir = working_dir + '/cavs/'"
   ]
  },
  {
   "cell_type": "code",
   "execution_count": 2,
   "metadata": {},
   "outputs": [],
   "source": [
    "\n",
    "with open(cav_dir + 'dotted-random500_0-mixed4d-linear-0.1.pkl', 'rb') as f:\n",
    "    data = pickle.load(f)"
   ]
  },
  {
   "cell_type": "code",
   "execution_count": 5,
   "metadata": {},
   "outputs": [
    {
     "data": {
      "text/plain": [
       "{'concepts': ['dotted', 'random500_0'],\n",
       " 'bottleneck': 'mixed4d',\n",
       " 'hparams': {'model_type': 'linear',\n",
       "  'alpha': 0.1,\n",
       "  'max_iter': 1000,\n",
       "  'tol': 0.001},\n",
       " 'accuracies': {'dotted': 1.0, 'random500_0': 1.0, 'overall': 1.0},\n",
       " 'cavs': [array([-3.83513699, -0.        , -3.15086947, ..., -0.        ,\n",
       "         -0.        ,  0.20657002]),\n",
       "  array([ 3.83513699,  0.        ,  3.15086947, ...,  0.        ,\n",
       "          0.        , -0.20657002])],\n",
       " 'saved_path': '/tmp/beenkim/tcav_class_test/cavs/dotted-random500_0-mixed4d-linear-0.1.pkl'}"
      ]
     },
     "execution_count": 5,
     "metadata": {},
     "output_type": "execute_result"
    }
   ],
   "source": [
    "data"
   ]
  }
 ],
 "metadata": {
  "kernelspec": {
   "display_name": "Python 3.9.2 64-bit",
   "language": "python",
   "name": "python3"
  },
  "language_info": {
   "codemirror_mode": {
    "name": "ipython",
    "version": 3
   },
   "file_extension": ".py",
   "mimetype": "text/x-python",
   "name": "python",
   "nbconvert_exporter": "python",
   "pygments_lexer": "ipython3",
   "version": "3.9.2"
  },
  "orig_nbformat": 4,
  "vscode": {
   "interpreter": {
    "hash": "397704579725e15f5c7cb49fe5f0341eb7531c82d19f2c29d197e8b64ab5776b"
   }
  }
 },
 "nbformat": 4,
 "nbformat_minor": 2
}
